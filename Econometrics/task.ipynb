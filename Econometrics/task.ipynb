{
 "cells": [
  {
   "cell_type": "markdown",
   "metadata": {},
   "source": [
    "## Задание ##\n",
    "По территориям региона приводятся данные о прожиточном минимуме и среднедушевой заработной плате.\n",
    "Требуется:\n",
    "1. Построить линейное уравнение парной регрессии y от x.\n",
    "2. Построить график реальных данных и функции, полученной на основе уравнения регрессии.\n",
    "3. Рассчитать линейный коэффициент парной корреляции и среднюю ошибку аппроксимации.\n",
    "4. Оценить статистическую значимость параметров регрессии и корреляции с помощью F-критерия Фишера и t-критерия Стьюдента.\n",
    "\n",
    "Исходные данные, согласно варианту №28:"
   ]
  },
  {
   "cell_type": "code",
   "execution_count": 11,
   "metadata": {
    "scrolled": true
   },
   "outputs": [
    {
     "data": {
      "text/html": [
       "<div>\n",
       "<style scoped>\n",
       "    .dataframe tbody tr th:only-of-type {\n",
       "        vertical-align: middle;\n",
       "    }\n",
       "\n",
       "    .dataframe tbody tr th {\n",
       "        vertical-align: top;\n",
       "    }\n",
       "\n",
       "    .dataframe thead th {\n",
       "        text-align: right;\n",
       "    }\n",
       "</style>\n",
       "<table border=\"1\" class=\"dataframe\">\n",
       "  <thead>\n",
       "    <tr style=\"text-align: right;\">\n",
       "      <th></th>\n",
       "      <th>Среднедушевой прожиточный минимум в день одного трудоспособного, X</th>\n",
       "      <th>Среднедневная заработная плата, у</th>\n",
       "    </tr>\n",
       "    <tr>\n",
       "      <th>№ региона</th>\n",
       "      <th></th>\n",
       "      <th></th>\n",
       "    </tr>\n",
       "  </thead>\n",
       "  <tbody>\n",
       "    <tr>\n",
       "      <td>1</td>\n",
       "      <td>78</td>\n",
       "      <td>133</td>\n",
       "    </tr>\n",
       "    <tr>\n",
       "      <td>2</td>\n",
       "      <td>94</td>\n",
       "      <td>139</td>\n",
       "    </tr>\n",
       "    <tr>\n",
       "      <td>3</td>\n",
       "      <td>85</td>\n",
       "      <td>141</td>\n",
       "    </tr>\n",
       "    <tr>\n",
       "      <td>4</td>\n",
       "      <td>73</td>\n",
       "      <td>127</td>\n",
       "    </tr>\n",
       "    <tr>\n",
       "      <td>5</td>\n",
       "      <td>91</td>\n",
       "      <td>154</td>\n",
       "    </tr>\n",
       "    <tr>\n",
       "      <td>6</td>\n",
       "      <td>88</td>\n",
       "      <td>142</td>\n",
       "    </tr>\n",
       "    <tr>\n",
       "      <td>7</td>\n",
       "      <td>73</td>\n",
       "      <td>122</td>\n",
       "    </tr>\n",
       "    <tr>\n",
       "      <td>8</td>\n",
       "      <td>82</td>\n",
       "      <td>135</td>\n",
       "    </tr>\n",
       "    <tr>\n",
       "      <td>9</td>\n",
       "      <td>99</td>\n",
       "      <td>142</td>\n",
       "    </tr>\n",
       "    <tr>\n",
       "      <td>10</td>\n",
       "      <td>113</td>\n",
       "      <td>168</td>\n",
       "    </tr>\n",
       "    <tr>\n",
       "      <td>11</td>\n",
       "      <td>69</td>\n",
       "      <td>124</td>\n",
       "    </tr>\n",
       "    <tr>\n",
       "      <td>12</td>\n",
       "      <td>83</td>\n",
       "      <td>130</td>\n",
       "    </tr>\n",
       "  </tbody>\n",
       "</table>\n",
       "</div>"
      ],
      "text/plain": [
       "           Среднедушевой прожиточный минимум в день одного трудоспособного, X  \\\n",
       "№ региона                                                                       \n",
       "1                                                         78                    \n",
       "2                                                         94                    \n",
       "3                                                         85                    \n",
       "4                                                         73                    \n",
       "5                                                         91                    \n",
       "6                                                         88                    \n",
       "7                                                         73                    \n",
       "8                                                         82                    \n",
       "9                                                         99                    \n",
       "10                                                       113                    \n",
       "11                                                        69                    \n",
       "12                                                        83                    \n",
       "\n",
       "           Среднедневная заработная плата, у  \n",
       "№ региона                                     \n",
       "1                                        133  \n",
       "2                                        139  \n",
       "3                                        141  \n",
       "4                                        127  \n",
       "5                                        154  \n",
       "6                                        142  \n",
       "7                                        122  \n",
       "8                                        135  \n",
       "9                                        142  \n",
       "10                                       168  \n",
       "11                                       124  \n",
       "12                                       130  "
      ]
     },
     "execution_count": 11,
     "metadata": {},
     "output_type": "execute_result"
    }
   ],
   "source": [
    "# Импорт модулей представления данных в виде графиков и таблиц\n",
    "import matplotlib.pyplot as plot\n",
    "import pandas as pd\n",
    "\n",
    "# Исходные данные\n",
    "x = [78, 94, 85, 73, 91, 88, 73, 82, 99, 113, 69, 83]\n",
    "y = [133, 139, 141, 127, 154, 142, 122, 135, 142, 168, 124, 130]\n",
    "\n",
    "# Формирование таблицы\n",
    "xCol = \"Среднедушевой прожиточный минимум в день одного трудоспособного, X\"\n",
    "yCol = \"Среднедневная заработная плата, у\"\n",
    "frame = pd.DataFrame(data = {xCol: x, yCol: y}, index = range(1,13))\n",
    "frame.index.name = \"№ региона\"\n",
    "frame"
   ]
  },
  {
   "cell_type": "markdown",
   "metadata": {},
   "source": [
    "## 0. Код расчётов ##"
   ]
  },
  {
   "cell_type": "code",
   "execution_count": 12,
   "metadata": {
    "scrolled": false
   },
   "outputs": [],
   "source": [
    "# Среднее значение аргумента\n",
    "def avg(arg):\n",
    "    return sum(arg)/len(arg)\n",
    "\n",
    "# Выборочное среднее (дисперсия) аргумента\n",
    "def sigma(arg):\n",
    "    avArg = avg(arg)\n",
    "    dArg = [pow(i - avArg, 2) for i in arg]\n",
    "    return pow(avg(dArg), 0.5)\n",
    "\n",
    "n = len(x)\n",
    "# Вспомогательные списки (массивы) — поэлементные произведения x и y, квадраты элементов x, квадраты элементов y\n",
    "xy = [i * j for i,j in zip(x,y)]\n",
    "x2 = [i*i for i in x]\n",
    "y2 = [i*i for i in y]\n",
    "\n",
    "# Коэффициенты уравнения регрессии\n",
    "b = (avg(xy) - avg(x) * avg(y)) / (avg(x2) - pow(avg(x),2))\n",
    "a = avg(y) - b * avg(x)\n",
    "\n",
    "# Коэффициент корреляции\n",
    "r_xy = b * sigma(x) / sigma(y)\n",
    "\n",
    "# Коэффициент детерминации\n",
    "r_xy2 = r_xy * r_xy\n",
    "\n",
    "# F-критерий Фишера\n",
    "F = r_xy2 / (1 - r_xy2) * (n - 2)\n",
    "\n",
    "# Случайные ошибки параметров линейной регрессии и коэффициента корреляции\n",
    "S2ost = sum([pow(j - a - b * i, 2) for i,j in zip(x,y)])/(n - 2)\n",
    "Sost = pow(S2ost, 0.5)\n",
    "mb = Sost / sigma(x) / pow(n, 0.5)\n",
    "ma = Sost * pow(sum(x2), 0.5) / sigma(x) / n\n",
    "mr = pow((1 - r_xy2) / (n - 2), 0.5)\n",
    "\n",
    "tb = b / mb\n",
    "ta = a / ma\n",
    "tr = r_xy / mr\n",
    "t = 2.228\n",
    "\n",
    "# Доверительные интервалы коэффициентов\n",
    "b_s, b_e = b - mb * t, b + mb * t\n",
    "a_s, a_e = a - ma * t, a + ma * t\n",
    "\n",
    "# Средняя ошибка аппроксимации\n",
    "y_x = [a + b * i for i in x]\n",
    "y_y_x = [j - i for i, j in zip(y_x, y)]\n",
    "y_y_x2 = [i * i for i in y_y_x]\n",
    "A = [abs((i - j)/i) * 100 for i, j in zip(y, y_x)]\n",
    "A_av = avg(A)"
   ]
  },
  {
   "cell_type": "markdown",
   "metadata": {},
   "source": [
    "## 1. Построение линейного уравнения парной регрессии ##\n",
    "<br>\n",
    "Математическое описание зависимости в среднем изменений результативного признака $y$ от фактора $x$ называется уравнением парной регрессии.\n",
    "Уравнение парной линейной регрессии имеет вид\n",
    "\n",
    "$$ \\hat{y}_x = a + b \\cdot x,$$\n",
    "\n",
    "где $\\hat{y}_x$ — среднее значение результативного признака при определенном значении факторного признака $х$, $а$ — свободный член уравнения регрессии, $b$ — коэффициент регрессии.\n",
    "\n",
    "### Расчёт параметров уравнения ###\n",
    "<br>\n",
    "Оценки параметров модели можно найти по следующим формулам\n",
    "\n",
    "$$ b = \\frac{cov(a, b)}{\\sigma^2} = \\frac{\\overline{x \\cdot y} - \\overline{x} \\cdot \\overline{y}}{\\overline{x^2} - \\overline{x}^2} $$\n",
    "\n",
    "$$ a = \\overline{y} - b \\cdot \\overline{x},$$\n",
    "где $\\overline{x}$ — среднее значение $x$, $\\overline{y}$ — среднее значение $y$.\n",
    "\n",
    "Для упрощения расчётов составим вспомогательную таблицу."
   ]
  },
  {
   "cell_type": "markdown",
   "metadata": {},
   "source": [
    "## Вспомогательная таблица ##"
   ]
  },
  {
   "cell_type": "code",
   "execution_count": 13,
   "metadata": {
    "scrolled": false
   },
   "outputs": [
    {
     "data": {
      "text/html": [
       "<div>\n",
       "<style scoped>\n",
       "    .dataframe tbody tr th:only-of-type {\n",
       "        vertical-align: middle;\n",
       "    }\n",
       "\n",
       "    .dataframe tbody tr th {\n",
       "        vertical-align: top;\n",
       "    }\n",
       "\n",
       "    .dataframe thead th {\n",
       "        text-align: right;\n",
       "    }\n",
       "</style>\n",
       "<table border=\"1\" class=\"dataframe\">\n",
       "  <thead>\n",
       "    <tr style=\"text-align: right;\">\n",
       "      <th></th>\n",
       "      <th>x</th>\n",
       "      <th>y</th>\n",
       "      <th>x * y</th>\n",
       "      <th>x^2</th>\n",
       "      <th>y^2</th>\n",
       "      <th>y_x</th>\n",
       "      <th>y_y_x</th>\n",
       "      <th>y_y_x2</th>\n",
       "      <th>A</th>\n",
       "    </tr>\n",
       "    <tr>\n",
       "      <th>№ региона</th>\n",
       "      <th></th>\n",
       "      <th></th>\n",
       "      <th></th>\n",
       "      <th></th>\n",
       "      <th></th>\n",
       "      <th></th>\n",
       "      <th></th>\n",
       "      <th></th>\n",
       "      <th></th>\n",
       "    </tr>\n",
       "  </thead>\n",
       "  <tbody>\n",
       "    <tr>\n",
       "      <td>1</td>\n",
       "      <td>78</td>\n",
       "      <td>133</td>\n",
       "      <td>10374</td>\n",
       "      <td>6084</td>\n",
       "      <td>17689</td>\n",
       "      <td>130.804492</td>\n",
       "      <td>2.195508</td>\n",
       "      <td>4.820255</td>\n",
       "      <td>1.650758</td>\n",
       "    </tr>\n",
       "    <tr>\n",
       "      <td>2</td>\n",
       "      <td>94</td>\n",
       "      <td>139</td>\n",
       "      <td>13066</td>\n",
       "      <td>8836</td>\n",
       "      <td>19321</td>\n",
       "      <td>145.995117</td>\n",
       "      <td>-6.995117</td>\n",
       "      <td>48.931664</td>\n",
       "      <td>5.032458</td>\n",
       "    </tr>\n",
       "    <tr>\n",
       "      <td>3</td>\n",
       "      <td>85</td>\n",
       "      <td>141</td>\n",
       "      <td>11985</td>\n",
       "      <td>7225</td>\n",
       "      <td>19881</td>\n",
       "      <td>137.450391</td>\n",
       "      <td>3.549609</td>\n",
       "      <td>12.599727</td>\n",
       "      <td>2.517453</td>\n",
       "    </tr>\n",
       "    <tr>\n",
       "      <td>4</td>\n",
       "      <td>73</td>\n",
       "      <td>127</td>\n",
       "      <td>9271</td>\n",
       "      <td>5329</td>\n",
       "      <td>16129</td>\n",
       "      <td>126.057422</td>\n",
       "      <td>0.942578</td>\n",
       "      <td>0.888454</td>\n",
       "      <td>0.742187</td>\n",
       "    </tr>\n",
       "    <tr>\n",
       "      <td>5</td>\n",
       "      <td>91</td>\n",
       "      <td>154</td>\n",
       "      <td>14014</td>\n",
       "      <td>8281</td>\n",
       "      <td>23716</td>\n",
       "      <td>143.146875</td>\n",
       "      <td>10.853125</td>\n",
       "      <td>117.790322</td>\n",
       "      <td>7.047484</td>\n",
       "    </tr>\n",
       "    <tr>\n",
       "      <td>6</td>\n",
       "      <td>88</td>\n",
       "      <td>142</td>\n",
       "      <td>12496</td>\n",
       "      <td>7744</td>\n",
       "      <td>20164</td>\n",
       "      <td>140.298633</td>\n",
       "      <td>1.701367</td>\n",
       "      <td>2.894650</td>\n",
       "      <td>1.198146</td>\n",
       "    </tr>\n",
       "    <tr>\n",
       "      <td>7</td>\n",
       "      <td>73</td>\n",
       "      <td>122</td>\n",
       "      <td>8906</td>\n",
       "      <td>5329</td>\n",
       "      <td>14884</td>\n",
       "      <td>126.057422</td>\n",
       "      <td>-4.057422</td>\n",
       "      <td>16.462672</td>\n",
       "      <td>3.325756</td>\n",
       "    </tr>\n",
       "    <tr>\n",
       "      <td>8</td>\n",
       "      <td>82</td>\n",
       "      <td>135</td>\n",
       "      <td>11070</td>\n",
       "      <td>6724</td>\n",
       "      <td>18225</td>\n",
       "      <td>134.602148</td>\n",
       "      <td>0.397852</td>\n",
       "      <td>0.158286</td>\n",
       "      <td>0.294705</td>\n",
       "    </tr>\n",
       "    <tr>\n",
       "      <td>9</td>\n",
       "      <td>99</td>\n",
       "      <td>142</td>\n",
       "      <td>14058</td>\n",
       "      <td>9801</td>\n",
       "      <td>20164</td>\n",
       "      <td>150.742187</td>\n",
       "      <td>-8.742187</td>\n",
       "      <td>76.425842</td>\n",
       "      <td>6.156470</td>\n",
       "    </tr>\n",
       "    <tr>\n",
       "      <td>10</td>\n",
       "      <td>113</td>\n",
       "      <td>168</td>\n",
       "      <td>18984</td>\n",
       "      <td>12769</td>\n",
       "      <td>28224</td>\n",
       "      <td>164.033984</td>\n",
       "      <td>3.966016</td>\n",
       "      <td>15.729280</td>\n",
       "      <td>2.360724</td>\n",
       "    </tr>\n",
       "    <tr>\n",
       "      <td>11</td>\n",
       "      <td>69</td>\n",
       "      <td>124</td>\n",
       "      <td>8556</td>\n",
       "      <td>4761</td>\n",
       "      <td>15376</td>\n",
       "      <td>122.259766</td>\n",
       "      <td>1.740234</td>\n",
       "      <td>3.028416</td>\n",
       "      <td>1.403415</td>\n",
       "    </tr>\n",
       "    <tr>\n",
       "      <td>12</td>\n",
       "      <td>83</td>\n",
       "      <td>130</td>\n",
       "      <td>10790</td>\n",
       "      <td>6889</td>\n",
       "      <td>16900</td>\n",
       "      <td>135.551563</td>\n",
       "      <td>-5.551563</td>\n",
       "      <td>30.819846</td>\n",
       "      <td>4.270433</td>\n",
       "    </tr>\n",
       "  </tbody>\n",
       "</table>\n",
       "</div>"
      ],
      "text/plain": [
       "             x    y  x * y    x^2    y^2         y_x      y_y_x      y_y_x2  \\\n",
       "№ региона                                                                     \n",
       "1           78  133  10374   6084  17689  130.804492   2.195508    4.820255   \n",
       "2           94  139  13066   8836  19321  145.995117  -6.995117   48.931664   \n",
       "3           85  141  11985   7225  19881  137.450391   3.549609   12.599727   \n",
       "4           73  127   9271   5329  16129  126.057422   0.942578    0.888454   \n",
       "5           91  154  14014   8281  23716  143.146875  10.853125  117.790322   \n",
       "6           88  142  12496   7744  20164  140.298633   1.701367    2.894650   \n",
       "7           73  122   8906   5329  14884  126.057422  -4.057422   16.462672   \n",
       "8           82  135  11070   6724  18225  134.602148   0.397852    0.158286   \n",
       "9           99  142  14058   9801  20164  150.742187  -8.742187   76.425842   \n",
       "10         113  168  18984  12769  28224  164.033984   3.966016   15.729280   \n",
       "11          69  124   8556   4761  15376  122.259766   1.740234    3.028416   \n",
       "12          83  130  10790   6889  16900  135.551563  -5.551563   30.819846   \n",
       "\n",
       "                  A  \n",
       "№ региона            \n",
       "1          1.650758  \n",
       "2          5.032458  \n",
       "3          2.517453  \n",
       "4          0.742187  \n",
       "5          7.047484  \n",
       "6          1.198146  \n",
       "7          3.325756  \n",
       "8          0.294705  \n",
       "9          6.156470  \n",
       "10         2.360724  \n",
       "11         1.403415  \n",
       "12         4.270433  "
      ]
     },
     "execution_count": 13,
     "metadata": {},
     "output_type": "execute_result"
    }
   ],
   "source": [
    "frame = pd.DataFrame(data = {\"x\": x, \"y\": y, \"x * y\": xy, \"x^2\": x2, \"y^2\": y2,\n",
    "                             \"y_x\": y_x, \"y_y_x\": y_y_x, \"y_y_x2\": y_y_x2, \"A\": A}, index = range(1,13))\n",
    "frame.index.name = \"№ региона\"\n",
    "frame"
   ]
  },
  {
   "cell_type": "code",
   "execution_count": 14,
   "metadata": {},
   "outputs": [
    {
     "name": "stdout",
     "output_type": "stream",
     "text": [
      "a = 56.75019531250106,\n",
      "b = 0.9494140624999877.\n"
     ]
    }
   ],
   "source": [
    "print('a = ' + str(a) + ',')\n",
    "print('b = ' + str(b) + '.')"
   ]
  },
  {
   "cell_type": "markdown",
   "metadata": {},
   "source": [
    "## Анализ результатов ##\n",
    "\n",
    "Таким образом, искомое уравнение принимает вид\n",
    "\n",
    "$$ \\hat{y}_x = 56.75019531250106 + 0.9494140624999877 \\cdot x $$\n",
    "\n",
    "и говорит о том, что с увеличением прожиточного минимума на 1000 рублей средняя зарплата увеличивается на 949 рублей."
   ]
  },
  {
   "cell_type": "markdown",
   "metadata": {},
   "source": [
    "## 2. Построение графика реальных данных и функции, полученной на основе уравнения регрессии ##"
   ]
  },
  {
   "cell_type": "code",
   "execution_count": 15,
   "metadata": {},
   "outputs": [
    {
     "data": {
      "text/plain": [
       "Text(0, 0.5, 'Среднедневная заработная плата, у')"
      ]
     },
     "execution_count": 15,
     "metadata": {},
     "output_type": "execute_result"
    },
    {
     "data": {
      "image/png": "[encoded data removed]",
      "text/plain": [
       "<Figure size 432x288 with 1 Axes>"
      ]
     },
     "metadata": {
      "needs_background": "light"
     },
     "output_type": "display_data"
    }
   ],
   "source": [
    "# Построение графика\n",
    "\n",
    "fig, ax = plot.subplots()\n",
    "ax.plot(frame [\"x\"][:12], frame [\"y\"][:12], \"ro\")\n",
    "ax.plot([50, 150], [(a+b*x) for x in [50, 150]])\n",
    "ax.set_title(\"Зависимость прожиточного минимума от средней зарплаты\")\n",
    "ax.set_xlim(50,150)\n",
    "ax.set_xlabel(\"Среднедушевой прожиточный минимум в день одного трудоспособного, x\")\n",
    "ax.set_ylabel(\"Среднедневная заработная плата, у\")"
   ]
  },
  {
   "cell_type": "markdown",
   "metadata": {},
   "source": [
    "## 3. Рассчет линейного коэффициента парной корреляции и средней ошибки аппроксимации ##\n",
    "\n",
    "Коэффициенты корреляции и детерминации вычисляется следующим образом\n",
    "\n",
    "$$ r_{xy} = b \\cdot \\frac{\\sigma_x}{\\sigma_y}, $$\n",
    "$$ r_{xy}^2 = r_{xy} \\cdot r_{xy}, $$\n",
    "$$ \\sigma_x = \\sqrt{\\frac{\\sum_{i=1}^n(x_i - \\bar{x})^2}{n}}, $$\n",
    "$$ \\sigma_y = \\sqrt{\\frac{\\sum_{i=1}^n(y_i - \\bar{y})^2}{n}}, $$\n",
    "\n",
    "где $r_{xy}$ - коэффициент корреляции между $y$ и $x$, $r_{xy}^2$ - коэффициент детерминации, $\\overline{x}$ — среднее значение $x$, $\\overline{y}$ — среднее значение $y$.\n",
    "\n",
    "Помимо вычислений выше упомянутых коэффициентов, для анализа качества полученной модели необходимо вычислить среднюю ошибку аппроксимации\n",
    "\n",
    "$$ A_i = \\Biggl| \\frac{y_i-\\hat{y}_{x_i}}{y_i} \\Biggr|, \\;\\; \\overline{A}=\\frac{\\sum_{i=1}^n A_i}{n}. $$"
   ]
  },
  {
   "cell_type": "code",
   "execution_count": 16,
   "metadata": {},
   "outputs": [
    {
     "name": "stdout",
     "output_type": "stream",
     "text": [
      "r_xy = 0.907266854062159\n",
      "r_xy2 = 0.823133144479847\n",
      "A_av = 2.999999038029035\n"
     ]
    }
   ],
   "source": [
    "print('r_xy = ' + str(r_xy))\n",
    "print('r_xy2 = ' + str(r_xy2))\n",
    "print('A_av = ' + str(A_av))\n",
    "\n"
   ]
  },
  {
   "cell_type": "markdown",
   "metadata": {},
   "source": [
    "## Анализ результатов ##\n",
    "\n",
    "Коэффициент корреляции $r_{xy} = 0.907$ близок к $1$, что указывает на\n",
    "тесную линейную связь между признаками.\n",
    "\n",
    "Коэффициент детерминации $r_{xy}^2 = 0.823$ показывает, что уравнением регрессии объясняется $82,3\\%$ дисперсии результативного признака, а на долю прочих факторов приходится $17,7\\%$.\n",
    "\n",
    "Значение средней ошибки аппроксимации $\\overline{A} = 3\\%$ говорит о хорошем подборе модели.\n",
    "\n",
    "\\newpage\n",
    "## 4. Оценка статистической значимости параметров регрессии и корреляции с помощью F-критерия Фишера и t-критерия Стьюдента ##\n",
    "\n",
    "Табличное значение F - критерия Фишера при $k_1 = m = 1, \\; k_2 = n-m-1=10, \\; \\alpha = 0,05 \\; F_{табл} = 4,96,$ а фактическое значение критерия найдём по формуле $$ F = \\frac{r_{xy}^2}{1-r_{xy}^2}\\cdot (n-2).$$\n"
   ]
  },
  {
   "cell_type": "code",
   "execution_count": 17,
   "metadata": {},
   "outputs": [
    {
     "name": "stdout",
     "output_type": "stream",
     "text": [
      "F = 46.53970593071665\n"
     ]
    }
   ],
   "source": [
    "print('F = ' + str(F))"
   ]
  },
  {
   "cell_type": "markdown",
   "metadata": {},
   "source": [
    "Получаем, $F_{факт} = 46,54$ и $F_{табл} = 4,96$. Поскольку $F_{факт} > F_{табл}$, то признаётся статистическая значимость уравнения в целом.\n",
    "\n",
    "\n",
    "Для оценки статистической значимости воспользуемся t-критерием Стьюдента. Табличное значение при $\\nu=n-m-1=10,\\: \\alpha = 0,025$ $t_{табл}=2,228.$\n",
    "\n",
    "Рассчитаем t-критерий Стьюдента и доверительные интервалы для коэффициентов регрессии и корреляции.\n",
    "Сперва найдём необъяснённую дисперсию и случайные ошибки параметров линейной регрессии и коэффициента корреляции\n",
    "\n",
    "$$ S_{ост}^2=\\frac{\\sum(y-\\hat{y}_x)^2}{n-2}, $$\n",
    "$$ m_a=S_{ост}\\cdot\\frac{\\sqrt{\\sum x^2}}{\\sigma_x \\cdot n}, \\;\\; m_b=\\frac{S_{ост}}{\\sigma_x\\sqrt{n}}, \\;\\; m_r=\\sqrt{\\frac{1-r^2}{n-2}}.$$\n",
    "\n",
    "И затем вычислим значения t-статистик по формулам\n",
    "\n",
    "$$ t_a = \\frac{a}{m_a}, \\;\\; t_b=\\frac{b}{m_b}, \\;\\; t_r=\\frac{r_{xy}}{m_a}.$$"
   ]
  },
  {
   "cell_type": "code",
   "execution_count": 18,
   "metadata": {},
   "outputs": [
    {
     "name": "stdout",
     "output_type": "stream",
     "text": [
      "S2ost = 33.05494140624999\n",
      "mb = 0.13916942814506572\n",
      "ma = 12.037149933095053\n",
      "mr = 0.13299129878309823\n",
      "ta = 4.714587392192527\n",
      "tb = 6.822001607352652\n",
      "tr = 6.822001607352247\n"
     ]
    }
   ],
   "source": [
    "print('S2ost = ' + str(S2ost))\n",
    "print('mb = ' + str(mb))\n",
    "print('ma = ' + str(ma))\n",
    "print('mr = ' + str(mr))\n",
    "print('ta = ' + str(ta))\n",
    "print('tb = ' + str(tb))\n",
    "print('tr = ' + str(tr))"
   ]
  },
  {
   "cell_type": "markdown",
   "metadata": {},
   "source": [
    "Таким образом, получили $$ t_a = 4.715, \\;\\; t_b=6.822, \\;\\; t_r=6.822.$$\n",
    "Расчётные значения критерия больше табличного. Следовательно, параметры регрессии и показательчастоты значимы.\n",
    "\n",
    "Доверительные интервалы для параметров регрессии\n",
    "$$a\\in[a-t\\cdot m_a,a+t\\cdot m_a], \\; b\\in [b-t\\cdot m_b,b+t\\cdot m_b]$$\n"
   ]
  },
  {
   "cell_type": "code",
   "execution_count": 19,
   "metadata": {},
   "outputs": [
    {
     "name": "stdout",
     "output_type": "stream",
     "text": [
      "a:[29.93142526156528,83.56896536343685],\n",
      "b:[0.6393445765927812,1.2594835484071942].\n"
     ]
    }
   ],
   "source": [
    "print('a:['+str(a_s)+','+str(a_e)+'],')\n",
    "print('b:['+str(b_s)+','+str(b_e)+'].')"
   ]
  }
 ],
 "metadata": {
  "kernelspec": {
   "display_name": "Python 3",
   "language": "python",
   "name": "python3"
  },
  "language_info": {
   "codemirror_mode": {
    "name": "ipython",
    "version": 3
   },
   "file_extension": ".py",
   "mimetype": "text/x-python",
   "name": "python",
   "nbconvert_exporter": "python",
   "pygments_lexer": "ipython3",
   "version": "3.7.4"
  },
  "toc": {
   "base_numbering": 1,
   "nav_menu": {
    "height": "251px",
    "width": "401px"
   },
   "number_sections": true,
   "sideBar": true,
   "skip_h1_title": false,
   "title_cell": "Table of Contents",
   "title_sidebar": "Contents",
   "toc_cell": false,
   "toc_position": {},
   "toc_section_display": true,
   "toc_window_display": false
  }
 },
 "nbformat": 4,
 "nbformat_minor": 1
}
